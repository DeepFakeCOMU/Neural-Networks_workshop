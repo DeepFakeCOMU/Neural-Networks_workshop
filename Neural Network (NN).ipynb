{
 "cells": [
  {
   "cell_type": "code",
   "execution_count": 1,
   "metadata": {},
   "outputs": [],
   "source": [
    "import numpy as np \n"
   ]
  },
  {
   "cell_type": "code",
   "execution_count": 23,
   "metadata": {},
   "outputs": [],
   "source": [
    "#sigmoid fonkisyonu veya Lojistik Aktivasyon Fonksiyonu\n",
    "# onun  sonuç aralığı [0 dan 1 kadar] veya evet hayir gibi sonuc bulmak icin bir denklemdir \n",
    "#denklemin sekili  1/(1+e^(-x))\n",
    "\n",
    "def sigmoid (x):\n",
    "    return 1.0/(1+np.exp(-x))    "
   ]
  },
  {
   "cell_type": "code",
   "execution_count": 24,
   "metadata": {},
   "outputs": [],
   "source": [
    "#sigmoid`in türevi \n",
    "def sigmoid_derivative(x):\n",
    "    return x * (1.0 -x )          # denklemin turevi alma"
   ]
  },
  {
   "cell_type": "code",
   "execution_count": 25,
   "metadata": {},
   "outputs": [],
   "source": [
    "class NeuralNetwork:\n",
    "    \n",
    "    '''\"self\" miras alındığında orginal sınıfın değişkenleri etkelenmesin diye değişme olduğu sürece''' \n",
    "    #sınır\"ın contractöru  iki parametre alsın\n",
    "    def __init__ (self , x , y):\n",
    "        #input bir değişkendir ve x\"n değeri almakta\n",
    "        self.input        = x\n",
    "        print('intput \\n' ,self.input )\n",
    "        print ()\n",
    "        \n",
    "        # weights1 ve weights2 rastgele değerler alsın ve onun boyutu weights1 için x\"n satırlarına  göre ve 4 sütun\n",
    "        #weights 1 ve 2 Q teta gibi her \"future\" geleck değişkeni için bir tetası var \n",
    "        self.weights1 = np.random.rand(self.input.shape[1],4)\n",
    "        print('weights1 _ tetalar 1\\n',self.weights1)\n",
    "        print()\n",
    "        # weights2 ise 4 satir bir sütun \n",
    "        self.weights2= np.random.rand(4,1)\n",
    "        print('wights2  _ tetalar 2 \\n',self.weights2)\n",
    "        print()\n",
    "        # y matrisi gerçek sonuçlar temsil ediyor  ve onlara göre tahmin yapılacaktır\n",
    "        self.y  = y \n",
    "        print('y \\n',self.y)\n",
    "        print()\n",
    "        \n",
    "        #output bir değişken dir ve y matirsin aynı boyut olsun , tahmin edilmiş sonuçlar matrisi\n",
    "        self.output       =np.zeros(self.y.shape)\n",
    "        print('y\"i göre  olacak boş sonuç matrisi \\n')\n",
    "        print('output  \\n',self.output)\n",
    "        print()\n",
    "    \n",
    "    # inputlardan başlayarak output\"a kadar her katmandaki Q \"tetalar\"  onun \"future\" ile çarpıp ve sigmid fonk. içinde uygula \n",
    "    #np.dot ise matris çarpma işlemi yapılır yani teta matrisi input matrisi ile çarpılıyor ve output te öyle \n",
    "    def feedforward(self):\n",
    "        self.layer1= sigmoid(np.dot(self.input,self.weights1))\n",
    "        #print('layer 1\\n',self.layer1)\n",
    "        #print()\n",
    "        self.output= sigmoid(np.dot(self.layer1,self.weights2))\n",
    "        #print('output  \\n',self.output)\n",
    "        #print()\n",
    "        \n",
    "    # geri gelerek tetalara (dengeleme) düzeltme yapılır yani buldumuz \n",
    "    def backprop(self):   #back propagation \n",
    "        d_weights2=np.dot(self.layer1.T ,(2*(self.y -self.output)*sigmoid_derivative(self.output)))\n",
    "        #print('d_weigts2 \\n',d_weights2)\n",
    "        #print()\n",
    "        d_weights1= np.dot(self.input.T,\n",
    "                           (np.dot(2*(self.y-self.output)*sigmoid_derivative(self.output),\n",
    "                                   self.weights2.T)*sigmoid_derivative(self.layer1)))\n",
    "        #print('d_weights1\\n',d_weights1)\n",
    "        #print()\n",
    "        \n",
    "        #update the weights with the derivative (slope) of the loss function \n",
    "        #tetalara güncelleme yapılımaktadır ve bu işlemei eğirisini türev alarak olur \n",
    "        self.weights1 += d_weights1\n",
    "        self.weights2 += d_weights2 \n",
    "\n",
    "\n",
    "        \n",
    "        "
   ]
  },
  {
   "cell_type": "code",
   "execution_count": 26,
   "metadata": {
    "scrolled": true
   },
   "outputs": [
    {
     "name": "stdout",
     "output_type": "stream",
     "text": [
      "intput \n",
      " [[0 0 1]\n",
      " [0 1 1]\n",
      " [1 0 1]\n",
      " [1 1 1]]\n",
      "\n",
      "weights1 _ tetalar 1\n",
      " [[0.16732768 0.10058377 0.27262621 0.57678234]\n",
      " [0.72012303 0.73778007 0.84996007 0.49559074]\n",
      " [0.07924985 0.31359854 0.00542485 0.45778809]]\n",
      "\n",
      "wights2  _ tetalar 2 \n",
      " [[0.1451824 ]\n",
      " [0.74208118]\n",
      " [0.69068037]\n",
      " [0.58835956]]\n",
      "\n",
      "y \n",
      " [[0]\n",
      " [1]\n",
      " [1]\n",
      " [0]]\n",
      "\n",
      "y\"i göre  olacak boş sonuç matrisi \n",
      "\n",
      "output  \n",
      " [[0.]\n",
      " [0.]\n",
      " [0.]\n",
      " [0.]]\n",
      "\n",
      "---------------------\n"
     ]
    }
   ],
   "source": [
    "#np.array    [0 0 1] şekili çevirir vergül yok ederek\n",
    "#            [0 1 1] \n",
    "#            [1 0 1] \n",
    "#            [1 1 1]\n",
    "#  bu veriyi göre eğitip y sonuçlara           \n",
    "x= np.array([[0,0,1],\n",
    "            [0,1,1],\n",
    "            [1,0,1],\n",
    "            [1,1,1]])\n",
    "\n",
    "y= np.array([[0],\n",
    "            [1],\n",
    "            [1],\n",
    "            [0]])\n",
    "        \n",
    "nn= NeuralNetwork(x,y)\n",
    "for i in range(1000):\n",
    "    nn.feedforward()\n",
    "    nn.backprop()\n",
    "print('---------------------')"
   ]
  },
  {
   "cell_type": "code",
   "execution_count": 27,
   "metadata": {},
   "outputs": [
    {
     "name": "stdout",
     "output_type": "stream",
     "text": [
      "[[0.01536837]\n",
      " [0.96069298]\n",
      " [0.96285911]\n",
      " [0.04712544]]\n"
     ]
    }
   ],
   "source": [
    "#bin kez iterasyonu yaptıkten sonra y'e çok yakın sonucu elde ettik \n",
    "print(nn.output)"
   ]
  },
  {
   "cell_type": "code",
   "execution_count": 28,
   "metadata": {},
   "outputs": [
    {
     "name": "stdout",
     "output_type": "stream",
     "text": [
      "[[0.00276301]\n",
      " [0.99065435]\n",
      " [0.99089146]\n",
      " [0.01144073]]\n"
     ]
    }
   ],
   "source": [
    "# 10000 kez iterasyon yaparsak  tabi ki bu matris küçük olduğu için hızlı olur ama büyük datalar olunca günler alınır\n",
    "for i in range(10000):\n",
    "    nn.feedforward()\n",
    "    nn.backprop()\n",
    "print(nn.output)"
   ]
  },
  {
   "cell_type": "code",
   "execution_count": null,
   "metadata": {},
   "outputs": [],
   "source": []
  }
 ],
 "metadata": {
  "kernelspec": {
   "display_name": "Python 3",
   "language": "python",
   "name": "python3"
  },
  "language_info": {
   "codemirror_mode": {
    "name": "ipython",
    "version": 3
   },
   "file_extension": ".py",
   "mimetype": "text/x-python",
   "name": "python",
   "nbconvert_exporter": "python",
   "pygments_lexer": "ipython3",
   "version": "3.7.5"
  }
 },
 "nbformat": 4,
 "nbformat_minor": 2
}
